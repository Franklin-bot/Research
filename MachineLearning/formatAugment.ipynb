{
 "cells": [
  {
   "cell_type": "code",
   "execution_count": 31,
   "metadata": {},
   "outputs": [],
   "source": [
    "import numpy as np\n",
    "import pandas as pd\n",
    "import random\n",
    "\n",
    "import matplotlib.pyplot as plt\n",
    "from tqdm.notebook import tqdm"
   ]
  },
  {
   "cell_type": "code",
   "execution_count": 44,
   "metadata": {},
   "outputs": [],
   "source": [
    "# load IMU data\n",
    "trial_name = \"tug_2\"\n",
    "quaternion_path = f\"/Users/FranklinZhao/OpenSimProject/Dataset/vIMU/Experimental/{trial_name}/Rajapogal_FullBody_calibrated_orientations.sto\"\n",
    "velocity_path = f\"/Users/FranklinZhao/OpenSimProject/Dataset/vIMU/Experimental/{trial_name}/Rajapogal_FullBody_calibrated_angular_velocity.sto\"\n",
    "acceleration_path = f\"/Users/FranklinZhao/OpenSimProject/Dataset/vIMU/Experimental/{trial_name}/Rajapogal_FullBody_calibrated_linear_accelerations.sto\"\n",
    "\n",
    "# read IMU data into dataframes\n",
    "quaternion_data = pd.read_csv(filepath_or_buffer=quaternion_path, sep='\\t', header=4)\n",
    "velocity_data = pd.read_csv(filepath_or_buffer=velocity_path, sep='\\t', header=4)\n",
    "acceleration_data = pd.read_csv(filepath_or_buffer=acceleration_path, sep='\\t', header=4)"
   ]
  },
  {
   "cell_type": "code",
   "execution_count": 45,
   "metadata": {},
   "outputs": [],
   "source": [
    "# load kinematics data\n",
    "kinematics_path = \"/Users/FranklinZhao/OpenSimProject/Dataset/Motion/Experimental/tug_02.mot\"\n",
    "\n",
    "# read kinematics data into dataframes\n",
    "kinematics_data = pd.read_csv(filepath_or_buffer=kinematics_path, header=8, skipinitialspace=True, sep='\\t')"
   ]
  },
  {
   "cell_type": "code",
   "execution_count": 46,
   "metadata": {},
   "outputs": [],
   "source": [
    "# get random index for IMU sensor\n",
    "def sampleSensor(sensorName):\n",
    "    index = random.randint(0, 49)\n",
    "\n",
    "    if index == 0:\n",
    "        return sensorName\n",
    "    else:\n",
    "        return sensorName+str(index)"
   ]
  },
  {
   "cell_type": "code",
   "execution_count": 47,
   "metadata": {},
   "outputs": [],
   "source": [
    "import numpy as np\n",
    "\n",
    "def createIMUDataInstance(quaternion_data, velocity_data, acceleration_data):\n",
    "    # Get indices for sensors to use in this data instance\n",
    "    humerus_l_imu_tag = \"humerus_l_imu\"\n",
    "    humerus_r_imu_tag = \"humerus_r_imu\"\n",
    "    ulna_l_imu_tag = \"ulna_l_imu\"\n",
    "    ulna_r_imu_tag = \"ulna_r_imu\"\n",
    "    tags = [humerus_l_imu_tag, humerus_r_imu_tag, ulna_l_imu_tag, ulna_r_imu_tag]\n",
    "\n",
    "    concatenated = []\n",
    "    for tag in tags:\n",
    "        raw_q = quaternion_data[tag].values\n",
    "        raw_v = velocity_data[tag].values\n",
    "        raw_a = acceleration_data[tag].values\n",
    "\n",
    "        total = np.zeros([raw_q.shape[0]-1, 20])\n",
    "        for i in range(0, raw_q.shape[0]-1):\n",
    "            total[i, :4] = np.array(raw_q[i+1].split(',')).astype(float)\n",
    "            total[i, 4:7] = np.array(raw_v[i+1].split(',')).astype(float)\n",
    "            total[i, 7:10] = np.array(raw_a[i+1].split(',')).astype(float)\n",
    "            total[i, 10:14] = np.array(raw_q[i].split(',')).astype(float)\n",
    "            total[i, 14:17] = np.array(raw_v[i].split(',')).astype(float)\n",
    "            total[i, 17:20] = np.array(raw_a[i].split(',')).astype(float)\n",
    "        concatenated.append(total)\n",
    "\n",
    "    concatenated_data = np.concatenate(concatenated, axis=1)\n",
    "    return concatenated_data\n"
   ]
  },
  {
   "cell_type": "code",
   "execution_count": 48,
   "metadata": {},
   "outputs": [],
   "source": [
    "def createDataInstance(masked = False):\n",
    "\n",
    "\n",
    "    # get imu data at time index\n",
    "    new_IMU_instance = createIMUDataInstance(quaternion_data, velocity_data, acceleration_data)\n",
    "    # get all kinematics data at time index\n",
    "    # new_kinematics_instance = kinematics_data.values[:, 1:]\n",
    "    # [arm_flex_r(25), arm_add_r(26), arm_rot_r(27), elbow_flex_r(28), pro_sup_r(29)]\n",
    "    # [arm_flex_l(32), arm_add_l(33), arm_rot_l(34), elbow_flex_l(35), pro_sup_l(36)]\n",
    "    right_arm_kinematics = kinematics_data.values[:, 25:30]\n",
    "    left_arm_kinematics = kinematics_data.values[:, 32:37]\n",
    "    right_leg_kinematics = kinematics_data.values[:, 6:12]\n",
    "    left_leg_kinematics = kinematics_data.values[:, 14:20]\n",
    "    torso_kinematics = np.concatenate([kinematics_data.values[:, :6],  kinematics_data.values[:, 22:25]], axis=1)\n",
    "    new_kinematics_instance = np.concatenate([left_arm_kinematics, \n",
    "                                              right_arm_kinematics, \n",
    "                                              left_leg_kinematics,\n",
    "                                              right_leg_kinematics,\n",
    "                                              torso_kinematics], axis = 1)\n",
    "\n",
    "    if masked:\n",
    "        new_kinematics_instance = np.zeros(new_kinematics_instance.shape)\n",
    "    # concatenate and return\n",
    "    new_data_instance = np.concatenate([new_IMU_instance, new_kinematics_instance[1:]], axis=1)\n",
    "    plt.show()\n",
    "    return new_data_instance\n",
    "\n",
    "    "
   ]
  },
  {
   "cell_type": "code",
   "execution_count": 49,
   "metadata": {},
   "outputs": [],
   "source": [
    "new_data_instance = createDataInstance(masked = True)\n",
    "df = pd.DataFrame(new_data_instance)\n",
    "file_path = '/Users/FranklinZhao/OpenSimProject/masked_data_instance2.csv'\n",
    "df.to_csv(file_path, index=False, header=False)"
   ]
  },
  {
   "cell_type": "code",
   "execution_count": null,
   "metadata": {},
   "outputs": [],
   "source": []
  },
  {
   "cell_type": "code",
   "execution_count": null,
   "metadata": {},
   "outputs": [],
   "source": []
  },
  {
   "cell_type": "code",
   "execution_count": null,
   "metadata": {},
   "outputs": [],
   "source": []
  },
  {
   "cell_type": "code",
   "execution_count": null,
   "metadata": {},
   "outputs": [],
   "source": []
  }
 ],
 "metadata": {
  "kernelspec": {
   "display_name": "Python 3",
   "language": "python",
   "name": "python3"
  },
  "language_info": {
   "codemirror_mode": {
    "name": "ipython",
    "version": 3
   },
   "file_extension": ".py",
   "mimetype": "text/x-python",
   "name": "python",
   "nbconvert_exporter": "python",
   "pygments_lexer": "ipython3",
   "version": "3.12.7"
  },
  "orig_nbformat": 4
 },
 "nbformat": 4,
 "nbformat_minor": 2
}
